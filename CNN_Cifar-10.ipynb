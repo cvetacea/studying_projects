{
 "cells": [
  {
   "cell_type": "markdown",
   "id": "ec8cc5e3",
   "metadata": {},
   "source": [
    "# CNN. Сверточные нейросети. CIFAR-10. Практика."
   ]
  },
  {
   "cell_type": "code",
   "execution_count": 1,
   "id": "9d4b621c",
   "metadata": {},
   "outputs": [],
   "source": [
    "import numpy as np\n",
    "import matplotlib.pyplot as plt\n",
    "import tensorflow as tf\n",
    "\n",
    "from keras.models import Sequential\n",
    "from keras.layers import Dense, Dropout, Activation, Flatten, Conv2D, MaxPooling2D\n",
    "from keras.datasets import cifar10\n",
    "from keras.utils import np_utils\n",
    "from keras.utils.vis_utils import plot_model\n",
    "\n",
    "import requests \n",
    "from PIL import Image\n",
    "from io import BytesIO"
   ]
  },
  {
   "cell_type": "markdown",
   "id": "dc3df06d",
   "metadata": {},
   "source": [
    "Import Data"
   ]
  },
  {
   "cell_type": "code",
   "execution_count": 2,
   "id": "9e11eb39",
   "metadata": {},
   "outputs": [],
   "source": [
    "(X_train, y_train), (X_test, y_test) = cifar10.load_data()"
   ]
  },
  {
   "cell_type": "markdown",
   "id": "ad3e88b5",
   "metadata": {},
   "source": [
    "Preprocessing"
   ]
  },
  {
   "cell_type": "code",
   "execution_count": 3,
   "id": "e0383033",
   "metadata": {},
   "outputs": [],
   "source": [
    "X_train = X_train.astype('float32') #переводим в вещественные числа\n",
    "X_test = X_test.astype('float32') "
   ]
  },
  {
   "cell_type": "code",
   "execution_count": 4,
   "id": "b1f43503",
   "metadata": {},
   "outputs": [],
   "source": [
    "X_train /= 255\n",
    "X_test /= 255"
   ]
  },
  {
   "cell_type": "code",
   "execution_count": 5,
   "id": "15e519c2",
   "metadata": {},
   "outputs": [
    {
     "data": {
      "text/plain": [
       "array([[6],\n",
       "       [9],\n",
       "       [9],\n",
       "       ...,\n",
       "       [9],\n",
       "       [1],\n",
       "       [1]], dtype=uint8)"
      ]
     },
     "execution_count": 5,
     "metadata": {},
     "output_type": "execute_result"
    }
   ],
   "source": [
    "y_train"
   ]
  },
  {
   "cell_type": "code",
   "execution_count": 6,
   "id": "62633b84",
   "metadata": {},
   "outputs": [],
   "source": [
    "from keras.utils import np_utils"
   ]
  },
  {
   "cell_type": "code",
   "execution_count": 7,
   "id": "8f06113e",
   "metadata": {},
   "outputs": [
    {
     "data": {
      "text/plain": [
       "array([[0., 0., 0., ..., 0., 0., 0.],\n",
       "       [0., 0., 0., ..., 0., 1., 0.],\n",
       "       [0., 0., 0., ..., 0., 1., 0.],\n",
       "       ...,\n",
       "       [0., 0., 0., ..., 0., 0., 0.],\n",
       "       [0., 1., 0., ..., 0., 0., 0.],\n",
       "       [0., 0., 0., ..., 1., 0., 0.]], dtype=float32)"
      ]
     },
     "execution_count": 7,
     "metadata": {},
     "output_type": "execute_result"
    }
   ],
   "source": [
    "\n",
    "np_utils.to_categorical(y_train, 10) #теперь классы ортоганальны друг другу\n",
    "np_utils.to_categorical(y_test, 10)"
   ]
  },
  {
   "cell_type": "code",
   "execution_count": 8,
   "id": "e2f53acf",
   "metadata": {},
   "outputs": [],
   "source": [
    "X_train = tf.expand_dims(X_train, axis=-1)\n",
    "X_test = tf.expand_dims(X_test, axis=-1)"
   ]
  },
  {
   "cell_type": "markdown",
   "id": "a2fd3a43",
   "metadata": {},
   "source": [
    "Model"
   ]
  },
  {
   "cell_type": "code",
   "execution_count": 9,
   "id": "b86686bd",
   "metadata": {},
   "outputs": [],
   "source": [
    "from keras.models import Sequential"
   ]
  },
  {
   "cell_type": "code",
   "execution_count": 10,
   "id": "3aa0c1cf",
   "metadata": {},
   "outputs": [],
   "source": [
    "model = Sequential()"
   ]
  },
  {
   "cell_type": "code",
   "execution_count": 11,
   "id": "8947fd7b",
   "metadata": {},
   "outputs": [],
   "source": [
    "from keras.layers import Dense, Flatten, Conv2D, MaxPooling2D"
   ]
  },
  {
   "cell_type": "code",
   "execution_count": 12,
   "id": "a1c34301",
   "metadata": {},
   "outputs": [],
   "source": [
    "model = Sequential()\n",
    "model.add(Conv2D(32, kernel_size=(3, 3), activation='relu', padding='same', input_shape=(32, 32, 3)))\n",
    "model.add(Conv2D(64, kernel_size=(3, 3), activation='relu', padding='same'))\n",
    "model.add(MaxPooling2D(pool_size=(2, 2)))\n",
    "\n",
    "model.add(Conv2D(32, kernel_size=(3, 3), activation='relu', padding='same'))\n",
    "model.add(Conv2D(64, kernel_size=(3, 3), activation='relu', padding='same'))\n",
    "model.add(MaxPooling2D(pool_size=(2, 2)))\n",
    "\n",
    "model.add(Flatten())\n",
    "model.add(Dense(512, activation='relu'))\n",
    "model.add(Dense(512, activation='relu'))\n",
    "model.add(Dense(10, activation='softmax'))"
   ]
  },
  {
   "cell_type": "code",
   "execution_count": 13,
   "id": "7bf8615b",
   "metadata": {},
   "outputs": [],
   "source": [
    "model.compile(loss='sparse_categorical_crossentropy',\n",
    "             optimizer='adam',\n",
    "             metrics=['accuracy'])"
   ]
  },
  {
   "cell_type": "code",
   "execution_count": 14,
   "id": "69515073",
   "metadata": {},
   "outputs": [
    {
     "name": "stdout",
     "output_type": "stream",
     "text": [
      "Model: \"sequential_1\"\n",
      "_________________________________________________________________\n",
      " Layer (type)                Output Shape              Param #   \n",
      "=================================================================\n",
      " conv2d (Conv2D)             (None, 32, 32, 32)        896       \n",
      "                                                                 \n",
      " conv2d_1 (Conv2D)           (None, 32, 32, 64)        18496     \n",
      "                                                                 \n",
      " max_pooling2d (MaxPooling2D  (None, 16, 16, 64)       0         \n",
      " )                                                               \n",
      "                                                                 \n",
      " conv2d_2 (Conv2D)           (None, 16, 16, 32)        18464     \n",
      "                                                                 \n",
      " conv2d_3 (Conv2D)           (None, 16, 16, 64)        18496     \n",
      "                                                                 \n",
      " max_pooling2d_1 (MaxPooling  (None, 8, 8, 64)         0         \n",
      " 2D)                                                             \n",
      "                                                                 \n",
      " flatten (Flatten)           (None, 4096)              0         \n",
      "                                                                 \n",
      " dense (Dense)               (None, 512)               2097664   \n",
      "                                                                 \n",
      " dense_1 (Dense)             (None, 512)               262656    \n",
      "                                                                 \n",
      " dense_2 (Dense)             (None, 10)                5130      \n",
      "                                                                 \n",
      "=================================================================\n",
      "Total params: 2,421,802\n",
      "Trainable params: 2,421,802\n",
      "Non-trainable params: 0\n",
      "_________________________________________________________________\n"
     ]
    }
   ],
   "source": [
    "model.summary()"
   ]
  },
  {
   "cell_type": "markdown",
   "id": "c845056f",
   "metadata": {},
   "source": [
    "Model training"
   ]
  },
  {
   "cell_type": "code",
   "execution_count": 15,
   "id": "fd8f2894",
   "metadata": {},
   "outputs": [
    {
     "name": "stdout",
     "output_type": "stream",
     "text": [
      "Epoch 1/10\n",
      "391/391 [==============================] - 87s 220ms/step - loss: 1.4587 - accuracy: 0.4697 - val_loss: 1.1078 - val_accuracy: 0.6036\n",
      "Epoch 2/10\n",
      "391/391 [==============================] - 86s 220ms/step - loss: 1.0013 - accuracy: 0.6476 - val_loss: 0.8976 - val_accuracy: 0.6855\n",
      "Epoch 3/10\n",
      "391/391 [==============================] - 87s 222ms/step - loss: 0.7849 - accuracy: 0.7216 - val_loss: 0.8012 - val_accuracy: 0.7207\n",
      "Epoch 4/10\n",
      "391/391 [==============================] - 88s 225ms/step - loss: 0.6088 - accuracy: 0.7889 - val_loss: 0.7674 - val_accuracy: 0.7365\n",
      "Epoch 5/10\n",
      "391/391 [==============================] - 88s 224ms/step - loss: 0.4584 - accuracy: 0.8404 - val_loss: 0.8037 - val_accuracy: 0.7332\n",
      "Epoch 6/10\n",
      "391/391 [==============================] - 88s 225ms/step - loss: 0.3257 - accuracy: 0.8861 - val_loss: 0.8898 - val_accuracy: 0.7392\n",
      "Epoch 7/10\n",
      "391/391 [==============================] - 90s 231ms/step - loss: 0.2161 - accuracy: 0.9242 - val_loss: 0.9818 - val_accuracy: 0.7416\n",
      "Epoch 8/10\n",
      "391/391 [==============================] - 92s 236ms/step - loss: 0.1448 - accuracy: 0.9496 - val_loss: 1.2189 - val_accuracy: 0.7314\n",
      "Epoch 9/10\n",
      "391/391 [==============================] - 88s 226ms/step - loss: 0.1133 - accuracy: 0.9608 - val_loss: 1.3014 - val_accuracy: 0.7372\n",
      "Epoch 10/10\n",
      "391/391 [==============================] - 88s 226ms/step - loss: 0.0896 - accuracy: 0.9692 - val_loss: 1.3668 - val_accuracy: 0.7274\n"
     ]
    },
    {
     "data": {
      "text/plain": [
       "<keras.callbacks.History at 0x2688767f790>"
      ]
     },
     "execution_count": 15,
     "metadata": {},
     "output_type": "execute_result"
    }
   ],
   "source": [
    "model.fit(X_train, y_train, epochs=10, batch_size=128, validation_data=(X_test, y_test))"
   ]
  },
  {
   "cell_type": "markdown",
   "id": "fec90c8a",
   "metadata": {},
   "source": [
    "Model evaluation"
   ]
  },
  {
   "cell_type": "code",
   "execution_count": 16,
   "id": "f1f751fa",
   "metadata": {},
   "outputs": [
    {
     "name": "stdout",
     "output_type": "stream",
     "text": [
      "313/313 [==============================] - 6s 20ms/step - loss: 1.3668 - accuracy: 0.7274\n"
     ]
    },
    {
     "data": {
      "text/plain": [
       "[1.366801142692566, 0.727400004863739]"
      ]
     },
     "execution_count": 16,
     "metadata": {},
     "output_type": "execute_result"
    }
   ],
   "source": [
    "model.evaluate(X_test, y_test)"
   ]
  },
  {
   "cell_type": "markdown",
   "id": "d2ec2b1a",
   "metadata": {},
   "source": [
    "Model prediction"
   ]
  },
  {
   "cell_type": "code",
   "execution_count": 23,
   "id": "be632d66",
   "metadata": {},
   "outputs": [],
   "source": [
    "# используем кастомную функцию для перевода изображений в нужный размер\n",
    "\n",
    "def resize_image(url):\n",
    "    response = requests.get(url)\n",
    "    img = Image.open(BytesIO(response.content))\n",
    "    width, height = img.size\n",
    "    square_side = min(width, height)\n",
    "    \n",
    "    img = img.crop((np.ceil((width - square_side)/2),\n",
    "                    np.ceil((height - square_side)/2),\n",
    "                    np.ceil((width + square_side)/2),\n",
    "                    np.ceil((height + square_side)/2)))\n",
    "    img.thumbnail((32, 32))\n",
    "    np_array = np.array(img)/255\n",
    "    \n",
    "    return np_array"
   ]
  },
  {
   "cell_type": "code",
   "execution_count": 24,
   "id": "dc8fd8b3",
   "metadata": {},
   "outputs": [],
   "source": [
    "CIFAR10_classes = [\n",
    "  'airplane',\n",
    "  'automobile',\n",
    "  'bird',\n",
    "  'cat',\n",
    "  'deer',\n",
    "  'dog',\n",
    "  'frog',\n",
    "  'horse',\n",
    "  'ship',\n",
    "  'truck'\n",
    "]\n",
    "\n",
    "def class_name(ix):\n",
    "  return CIFAR10_classes[np.array(ix).flatten()[0]]"
   ]
  },
  {
   "cell_type": "code",
   "execution_count": 33,
   "id": "d37198e1",
   "metadata": {},
   "outputs": [
    {
     "data": {
      "text/plain": [
       "<matplotlib.image.AxesImage at 0x2688be82730>"
      ]
     },
     "execution_count": 33,
     "metadata": {},
     "output_type": "execute_result"
    },
    {
     "data": {
      "image/png": "[encoded data removed]",
      "text/plain": [
       "<Figure size 432x288 with 1 Axes>"
      ]
     },
     "metadata": {
      "needs_background": "light"
     },
     "output_type": "display_data"
    }
   ],
   "source": [
    "plt.imshow(resize_image('https://assets.petco.com/petco/image/upload/f_auto,q_auto/green-tree-frog-care-sheet-hero'))"
   ]
  },
  {
   "cell_type": "code",
   "execution_count": 34,
   "id": "d76aed80",
   "metadata": {},
   "outputs": [
    {
     "name": "stdout",
     "output_type": "stream",
     "text": [
      "1/1 [==============================] - 0s 31ms/step\n"
     ]
    },
    {
     "data": {
      "text/plain": [
       "'frog'"
      ]
     },
     "execution_count": 34,
     "metadata": {},
     "output_type": "execute_result"
    }
   ],
   "source": [
    "class_name(np.argmax(model.predict(np.array([resize_image('https://assets.petco.com/petco/image/upload/f_auto,q_auto/green-tree-frog-care-sheet-hero')]))))"
   ]
  },
  {
   "cell_type": "code",
   "execution_count": null,
   "id": "48becbe1",
   "metadata": {},
   "outputs": [],
   "source": []
  }
 ],
 "metadata": {
  "kernelspec": {
   "display_name": "Python 3 (ipykernel)",
   "language": "python",
   "name": "python3"
  },
  "language_info": {
   "codemirror_mode": {
    "name": "ipython",
    "version": 3
   },
   "file_extension": ".py",
   "mimetype": "text/x-python",
   "name": "python",
   "nbconvert_exporter": "python",
   "pygments_lexer": "ipython3",
   "version": "3.9.7"
  }
 },
 "nbformat": 4,
 "nbformat_minor": 5
}
